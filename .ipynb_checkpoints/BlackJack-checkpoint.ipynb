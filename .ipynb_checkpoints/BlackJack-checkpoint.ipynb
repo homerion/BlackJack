{
 "cells": [
  {
   "cell_type": "code",
   "execution_count": 148,
   "metadata": {},
   "outputs": [],
   "source": [
    "from IPython.display import clear_output"
   ]
  },
  {
   "cell_type": "code",
   "execution_count": 149,
   "metadata": {},
   "outputs": [],
   "source": [
    "class Card():\n",
    "    def __init__(self, suit, face):\n",
    "        self.suit = suit\n",
    "        self.face=face\n",
    "    \n",
    "    def value(self):\n",
    "        face=self.face\n",
    "        if isinstance(face,int):\n",
    "            return face\n",
    "        elif face is 'J' or face is 'Q' or face is 'K':\n",
    "            return 10\n",
    "        elif face is 'A':\n",
    "            return 11\n",
    "        "
   ]
  },
  {
   "cell_type": "code",
   "execution_count": null,
   "metadata": {},
   "outputs": [],
   "source": []
  },
  {
   "cell_type": "code",
   "execution_count": 150,
   "metadata": {},
   "outputs": [],
   "source": [
    "from random import choice,shuffle\n",
    "class Deck():\n",
    "    def __init__(self,multiplier):\n",
    "        self.stack=[]\n",
    "        for i in range(2,11):\n",
    "            self.stack.append(Card('Spade',i))\n",
    "            self.stack.append(Card('Heart',i))\n",
    "            self.stack.append(Card('Club',i))\n",
    "            self.stack.append(Card('Diamond',i))\n",
    "        for f in ['J','Q','K','A']:\n",
    "            self.stack.append(Card('Spade',f))\n",
    "            self.stack.append(Card('Heart',f))\n",
    "            self.stack.append(Card('Club',f))\n",
    "            self.stack.append(Card('Diamond',f))\n",
    "        self.stack*=multiplier\n",
    "        self.dealt=[]\n",
    "        \n",
    "    \n",
    "    def shuffle(self):\n",
    "        self.stack+=self.dealt\n",
    "        self.dealt=[]\n",
    "        shuffle(self.stack)\n",
    "    \n",
    "    def dealone(self):\n",
    "        top_card=self.stack.pop()\n",
    "        self.dealt.append(top_card)\n",
    "        return top_card\n",
    "    \n",
    "        "
   ]
  },
  {
   "cell_type": "code",
   "execution_count": null,
   "metadata": {},
   "outputs": [],
   "source": []
  },
  {
   "cell_type": "code",
   "execution_count": 151,
   "metadata": {},
   "outputs": [],
   "source": [
    "class Player():\n",
    "    def __init__(self,money):\n",
    "        self.money=money\n",
    "        self.hand=[]\n",
    "        self.splithand=[]\n",
    "        self.bet=0\n",
    "        self.splitbet=0\n",
    "        \n",
    "        \n",
    "    def handvalue(self):\n",
    "        total=0\n",
    "        aces=0\n",
    "        for h in self.hand:\n",
    "            if h.face=='A':\n",
    "                aces+=1\n",
    "            total+=h.value()\n",
    "            while total>21 and aces>0:\n",
    "                total-=10\n",
    "                aces-=1\n",
    "        return total\n",
    "    \n",
    "    def wager(self,opp,value,split=False):\n",
    "        if split:\n",
    "            self.splitbet+=value\n",
    "            opp.splitbet+=value\n",
    "        else:\n",
    "            self.bet+=value\n",
    "            opp.bet+=value\n",
    "        opp.money-=value\n",
    "        self.money-=value\n",
    "    \n",
    "    def win(self):\n",
    "        self.money+=self.bet*2\n",
    "        self.bet=0\n",
    "    \n",
    "    def lose(self):\n",
    "        self.bet=0\n",
    "    \n",
    "    def tie(self):\n",
    "        self.money+=self.bet\n",
    "        self.bet=0\n",
    "    \n",
    "    def printhand(self):\n",
    "        for h in self.hand:\n",
    "            print(\"{} of {}s\".format(h.face,h.suit))\n",
    "    \n",
    "    def printsplithand(self):\n",
    "        for h in self.splithand:\n",
    "            print(\"{} of {}s\".format(h.face,h.suit))\n",
    "    \n",
    "            \n",
    "    def printmoney(self):\n",
    "        print(\"You have ${}\".format(self.money))\n",
    "    \n",
    "        "
   ]
  },
  {
   "cell_type": "code",
   "execution_count": 152,
   "metadata": {},
   "outputs": [],
   "source": [
    "class Dealer(Player):\n",
    "    def __init__(self,money):\n",
    "        super().__init__(money)\n",
    "        self.money=money\n",
    "        \n",
    "    def musthit(self):\n",
    "        if self.handvalue()<17:\n",
    "            return True\n",
    "        else:\n",
    "            return False\n",
    "    def printmoney(self):\n",
    "        print(\"The dealer has ${} of your money\".format(self.money))\n",
    "    \n",
    "    def printhand(self,pre=True):\n",
    "        if pre:\n",
    "            print(\"? of ?\")\n",
    "        else:\n",
    "            print(\"{} of {}s\".format(self.hand[0].face,self.hand[0].suit))\n",
    "        for h in self.hand[1:]:\n",
    "            print(\"{} of {}s\".format(h.face,h.suit))"
   ]
  },
  {
   "cell_type": "code",
   "execution_count": 162,
   "metadata": {},
   "outputs": [],
   "source": [
    "class Inputs():\n",
    "    def __init__(self):\n",
    "        self.start=False\n",
    "        self.quit=False\n",
    "        self.commands=['Hit', 'Double Down','Stay','Split','Q','Quit','Y','Yes','N','No']\n",
    "        self.decision=\"\"\n",
    "        \n",
    "\n",
    "    def setto(self,question):\n",
    "        string='Blank'\n",
    "        while string not in self.commands:\n",
    "            string=input(question).title()\n",
    "        if string.title()=='Y' or string.title()=='Yes':\n",
    "            self.start=True\n",
    "        else:\n",
    "            self.start=False\n",
    "        if string.title()=='Q' or string.title()=='Quit':\n",
    "            self.quit=True\n",
    "        else:\n",
    "            self.quit=False\n",
    "        self.decision=string"
   ]
  },
  {
   "cell_type": "code",
   "execution_count": 163,
   "metadata": {},
   "outputs": [],
   "source": [
    "def print_intro():\n",
    "    print(\"Welcome to BlackJack!!\")\n",
    "    print(\"======================\")\n",
    "    print(\"How to play:\")\n",
    "    print(\"\")\n",
    "    print(\"1) Have a higher hand value than the dealer to win.\")\n",
    "    print(\"2) Going over 21 is called a 'bust' and you lose automatically.\")\n",
    "    print(\"3) The dealer must hit on any hand lower than 17.\")\n",
    "    print(\"4) If you and the dealer tie, it's a 'push' and neither you nor the dealer loses money.\")\n",
    "    print(\"5) Type 'hit' to receive a card from the deck on your turn.\")\n",
    "    print(\"6) Type 'stay' to end your turn.\")\n",
    "    print(\"7) Type 'double' to double down (once doubling down, your turn ends after receiving card).\")\n",
    "    print(\"8) Type 'split' to split the cards in your hand (only allowed on pairs).\")\n",
    "    print(\"9) Each player begins with $500\")\n",
    "    print(\"10) The player with the highest amount during the session will be displayed when you leave the table.\")\n",
    "    print(\"11) Press 'q' to quit at any time.\")\n",
    "    print(\"\\nGood Luck!!\")"
   ]
  },
  {
   "cell_type": "code",
   "execution_count": 164,
   "metadata": {},
   "outputs": [],
   "source": [
    "def inithands(bot,player,deck):\n",
    "    bot.hand=[]\n",
    "    bot.hand.append(deck.dealone())\n",
    "    bot.hand.append(deck.dealone())\n",
    "    player.hand=[]\n",
    "    player.hand.append(deck.dealone())\n",
    "    player.hand.append(deck.dealone())\n"
   ]
  },
  {
   "cell_type": "code",
   "execution_count": 165,
   "metadata": {},
   "outputs": [],
   "source": [
    "def printinfo(bot,player,pre=True,split=False):\n",
    "    clear_output()\n",
    "    bot.printhand(pre)\n",
    "    if not pre:\n",
    "        print(\"Their hand is worth {}.\".format(bot.handvalue()))\n",
    "    print(\"================\")\n",
    "    player.printmoney()\n",
    "    print(\"You bet ${}\".format(player.bet))\n",
    "    print(\"================\")\n",
    "    player.printhand()\n",
    "    print(\"Your hand is worth {}.\".format(player.handvalue()))\n",
    "    if split:\n",
    "        player.printsplithand()\n",
    "        print(\"Your other hand is worth {}.\".format(player.handvalue()))"
   ]
  },
  {
   "cell_type": "code",
   "execution_count": 168,
   "metadata": {},
   "outputs": [],
   "source": [
    "def the_game():\n",
    "    print_intro()\n",
    "    u_input=Inputs()\n",
    "    u_input.setto(\"Would you like to play? [y/n] \")\n",
    "    if not u_input.start:\n",
    "        print('Have a nice day! ')\n",
    "        return None\n",
    "    else:\n",
    "        #initialize the game\n",
    "        money=input(\"How much money do you want to play with? \")\n",
    "        if money.title()==\"Q\" or money.title()=='Quit':\n",
    "            u_input.quit=True\n",
    "        while not money.isdigit():\n",
    "            clear_output()\n",
    "            money=input(\"How much money do you want to play with? \")\n",
    "            if money.title()==\"Q\" or money.title()=='Quit':\n",
    "                u_input.quit=True\n",
    "                break\n",
    "        money=int(money)\n",
    "        while money<1:\n",
    "            clear_output()\n",
    "            print(\"Are you sure that's enough?\")\n",
    "            money=input(\"How much money do you REALLY want to play with? \")\n",
    "            while not money.isdigit():\n",
    "                clear_output()\n",
    "                money=input(\"How much money do you want to play with? \")\n",
    "                if money.title()==\"Q\" or money.title()=='Quit':\n",
    "                    u_input.quit=True\n",
    "                    break\n",
    "            if money.title()==\"Q\" or money.title()=='Quit':\n",
    "                u_input.quit=True\n",
    "                break\n",
    "            money=int(money)\n",
    "        dealer=Dealer(0)\n",
    "        player1=Player(money)\n",
    "        deck=Deck(7)\n",
    "        deck.shuffle()\n",
    "    \n",
    "    #plays the hand\n",
    "    while u_input.start==True and u_input.quit==False:\n",
    "        if player1.money<1:\n",
    "            money=input(\"Do you want to put down more money? \")\n",
    "            if money.title()==\"Q\" or money.title()=='Quit':\n",
    "                u_input.quit=True\n",
    "                continue\n",
    "            while not money.isdigit():\n",
    "                clear_output()\n",
    "                money=input(\"Do you want to put down more money? \")\n",
    "                if money.title()==\"Q\" or money.title()=='Quit':\n",
    "                    u_input.quit=True\n",
    "                    break\n",
    "        if str(money).title()==\"Q\" or str(money).title()=='Quit':\n",
    "            u_input.quit=True\n",
    "            continue\n",
    "        money=int(money)\n",
    "        clear_output()\n",
    "        player1.printmoney()\n",
    "        wager=input(\"How much money do you want to wager? \")\n",
    "        if str(wager).title()==\"Q\" or str(wager).title()=='Quit':\n",
    "            u_input.quit=True\n",
    "            continue\n",
    "        while not wager.isdigit():\n",
    "            clear_output()\n",
    "            player1.printmoney()\n",
    "            wager=input(\"How much money do you want to wager? \")\n",
    "            if wager.title()==\"Q\" or wager.title()=='Quit':\n",
    "                u_input.quit=True\n",
    "                break\n",
    "        if str(wager).title()==\"Q\" or str(wager).title()=='Quit':\n",
    "            u_input.quit=True\n",
    "            continue\n",
    "        wager=int(wager)\n",
    "        while wager>player1.money or 1>wager:\n",
    "            print(\"That isn't a valid amount!\")\n",
    "            player1.printmoney()\n",
    "            wager=input(\"How much would you like to bet? \")\n",
    "            while not wager.isdigit():\n",
    "                clear_output()\n",
    "                player1.printmoney()\n",
    "                wager=input(\"How much money do you want to wager? \")\n",
    "                if wager.title()==\"Q\" or wager.title()=='Quit':\n",
    "                    u_input.quit=True\n",
    "                    break\n",
    "            if wager.title()==\"Q\" or wager.title()=='Quit':\n",
    "                u_input.quit=True\n",
    "                break\n",
    "            wager=int(wager)\n",
    "        if str(wager).title()==\"Q\" or str(wager).title()=='Quit':\n",
    "            u_input.quit=True\n",
    "            continue\n",
    "        player1.wager(dealer,wager)\n",
    "        inithands(dealer,player1,deck)\n",
    "        clear_output()\n",
    "        printinfo(dealer,player1)\n",
    "        \n",
    "        if player1.hand[0].face==player1.hand[1].face:\n",
    "            u_input.setto('You can Split, Double Down, Hit, or Stay')\n",
    "        else:\n",
    "            u_input.setto('You can Double Down, Hit, or Stay')\n",
    "        if u_input.decision==\"Q\" or u_input.decision=='Quit':\n",
    "            u_input.quit=True\n",
    "            continue\n",
    "            \n",
    "            \n",
    "        if u_input.decision=='Split':\n",
    "            split=True\n",
    "            player1.splithand=[player1.hand.pop()]\n",
    "            clear_output()\n",
    "            player1.hand.append(deck.dealone())\n",
    "            player1.splithand.append(deck.dealone())\n",
    "            player1.wager(dealer,wager,split=split)\n",
    "            printinfo(dealer,player1,split=split)\n",
    "            u_input.setto('You can Double Down, Hit, or Stay')\n",
    "#         for each in [player1.hand,player1.splithand]:\n",
    "            \n",
    "        \n",
    "        \n",
    "        if u_input.decision=='Hit':\n",
    "            while u_input.decision=='Hit':\n",
    "                player1.hand.append(deck.dealone())\n",
    "                clear_output()\n",
    "                printinfo(dealer,player1)\n",
    "                if player1.handvalue()>21:\n",
    "                    break\n",
    "                else:\n",
    "                    u_input.setto('You can Hit, or Stay ')\n",
    "                    if u_input.decision==\"Q\" or u_input.decision=='Quit':\n",
    "                        u_input.quit=True\n",
    "                        break\n",
    "            if u_input.decision==\"Q\" or u_input.decision=='Quit':\n",
    "                u_input.quit=True\n",
    "                continue            \n",
    "        elif u_input.decision=='Double Down':\n",
    "            player1.hand.append(deck.dealone())\n",
    "            player1.wager(dealer,wager)\n",
    "            printinfo(dealer,player1)\n",
    "        while dealer.musthit():\n",
    "            dealer.hand.append(deck.dealone())\n",
    "        #Tell the player what happened in the background\n",
    "        clear_output()\n",
    "        printinfo(dealer,player1,pre=False)    \n",
    "        if dealer.handvalue()>21 and player1.handvalue()>21:\n",
    "            print(\"You both busted.\")\n",
    "            print(\"It's a Push\")\n",
    "            player1.tie()\n",
    "            dealer.tie()\n",
    "        elif dealer.handvalue()==player1.handvalue():\n",
    "            print(\"It's a Push.\")\n",
    "            player1.tie()\n",
    "            dealer.tie()\n",
    "        elif dealer.handvalue()>21 and player1.handvalue()<=21: \n",
    "            print(\"They busted.\")\n",
    "            print('You Win!')\n",
    "            player1.win()\n",
    "            dealer.lose()\n",
    "        elif dealer.handvalue()<=21 and player1.handvalue()>21:          \n",
    "            print(\"You busted.\")\n",
    "            print(\"You Lose...\")\n",
    "            dealer.win()\n",
    "            player1.lose()            \n",
    "        elif dealer.handvalue()>player1.handvalue():\n",
    "            print('You Lose...')\n",
    "            dealer.win()\n",
    "            player1.lose()\n",
    "        else:\n",
    "            print('You Win!')\n",
    "            player1.win()\n",
    "            dealer.lose()\n",
    "        u_input.setto('Would you like to continue? ')\n",
    "        \n",
    "    clear_output()\n",
    "    if dealer.money>player1.money:\n",
    "        print(\"The house took ${}\".format(dealer.money))\n",
    "    else:\n",
    "        print(\"You walked away with ${}\".format(player1.money))"
   ]
  },
  {
   "cell_type": "code",
   "execution_count": 169,
   "metadata": {},
   "outputs": [
    {
     "name": "stdout",
     "output_type": "stream",
     "text": [
      "Are you sure that's enough?\n",
      "How much money do you REALLY want to play with? 1\n"
     ]
    },
    {
     "ename": "TypeError",
     "evalue": "'<' not supported between instances of 'str' and 'int'",
     "output_type": "error",
     "traceback": [
      "\u001b[0;31m---------------------------------------------------------------------------\u001b[0m",
      "\u001b[0;31mTypeError\u001b[0m                                 Traceback (most recent call last)",
      "\u001b[0;32m<ipython-input-169-09e9814465f5>\u001b[0m in \u001b[0;36m<module>\u001b[0;34m()\u001b[0m\n\u001b[0;32m----> 1\u001b[0;31m \u001b[0mthe_game\u001b[0m\u001b[0;34m(\u001b[0m\u001b[0;34m)\u001b[0m\u001b[0;34m\u001b[0m\u001b[0m\n\u001b[0m",
      "\u001b[0;32m<ipython-input-168-599d57afe08c>\u001b[0m in \u001b[0;36mthe_game\u001b[0;34m()\u001b[0m\n\u001b[1;32m     18\u001b[0m                 \u001b[0;32mbreak\u001b[0m\u001b[0;34m\u001b[0m\u001b[0m\n\u001b[1;32m     19\u001b[0m         \u001b[0mmoney\u001b[0m\u001b[0;34m=\u001b[0m\u001b[0mint\u001b[0m\u001b[0;34m(\u001b[0m\u001b[0mmoney\u001b[0m\u001b[0;34m)\u001b[0m\u001b[0;34m\u001b[0m\u001b[0m\n\u001b[0;32m---> 20\u001b[0;31m         \u001b[0;32mwhile\u001b[0m \u001b[0mmoney\u001b[0m\u001b[0;34m<\u001b[0m\u001b[0;36m1\u001b[0m\u001b[0;34m:\u001b[0m\u001b[0;34m\u001b[0m\u001b[0m\n\u001b[0m\u001b[1;32m     21\u001b[0m             \u001b[0mclear_output\u001b[0m\u001b[0;34m(\u001b[0m\u001b[0;34m)\u001b[0m\u001b[0;34m\u001b[0m\u001b[0m\n\u001b[1;32m     22\u001b[0m             \u001b[0mprint\u001b[0m\u001b[0;34m(\u001b[0m\u001b[0;34m\"Are you sure that's enough?\"\u001b[0m\u001b[0;34m)\u001b[0m\u001b[0;34m\u001b[0m\u001b[0m\n",
      "\u001b[0;31mTypeError\u001b[0m: '<' not supported between instances of 'str' and 'int'"
     ]
    }
   ],
   "source": [
    "the_game()"
   ]
  },
  {
   "cell_type": "code",
   "execution_count": 65,
   "metadata": {},
   "outputs": [],
   "source": [
    "deck=Deck(1)"
   ]
  },
  {
   "cell_type": "code",
   "execution_count": null,
   "metadata": {},
   "outputs": [],
   "source": []
  },
  {
   "cell_type": "code",
   "execution_count": 69,
   "metadata": {},
   "outputs": [
    {
     "data": {
      "text/plain": [
       "<__main__.Card at 0x10c969128>"
      ]
     },
     "execution_count": 69,
     "metadata": {},
     "output_type": "execute_result"
    }
   ],
   "source": [
    "deck.stack[0]"
   ]
  },
  {
   "cell_type": "code",
   "execution_count": 71,
   "metadata": {},
   "outputs": [],
   "source": [
    "tester=Player(10)"
   ]
  },
  {
   "cell_type": "code",
   "execution_count": 72,
   "metadata": {},
   "outputs": [],
   "source": [
    "tester.hand.append(deck.dealone())"
   ]
  },
  {
   "cell_type": "code",
   "execution_count": 73,
   "metadata": {},
   "outputs": [
    {
     "data": {
      "text/plain": [
       "[<__main__.Card at 0x10c90eef0>]"
      ]
     },
     "execution_count": 73,
     "metadata": {},
     "output_type": "execute_result"
    }
   ],
   "source": [
    "tester.hand"
   ]
  },
  {
   "cell_type": "code",
   "execution_count": 75,
   "metadata": {},
   "outputs": [
    {
     "data": {
      "text/plain": [
       "'A'"
      ]
     },
     "execution_count": 75,
     "metadata": {},
     "output_type": "execute_result"
    }
   ],
   "source": [
    "tester.hand[0].face"
   ]
  },
  {
   "cell_type": "code",
   "execution_count": 131,
   "metadata": {},
   "outputs": [
    {
     "name": "stdout",
     "output_type": "stream",
     "text": [
      "cash 1\n"
     ]
    }
   ],
   "source": [
    "testing=input('cash ')"
   ]
  },
  {
   "cell_type": "code",
   "execution_count": 132,
   "metadata": {},
   "outputs": [
    {
     "data": {
      "text/plain": [
       "True"
      ]
     },
     "execution_count": 132,
     "metadata": {},
     "output_type": "execute_result"
    }
   ],
   "source": [
    "testing.isdigit()"
   ]
  },
  {
   "cell_type": "code",
   "execution_count": null,
   "metadata": {},
   "outputs": [],
   "source": []
  }
 ],
 "metadata": {
  "kernelspec": {
   "display_name": "Python 3",
   "language": "python",
   "name": "python3"
  },
  "language_info": {
   "codemirror_mode": {
    "name": "ipython",
    "version": 3
   },
   "file_extension": ".py",
   "mimetype": "text/x-python",
   "name": "python",
   "nbconvert_exporter": "python",
   "pygments_lexer": "ipython3",
   "version": "3.6.5"
  }
 },
 "nbformat": 4,
 "nbformat_minor": 2
}
